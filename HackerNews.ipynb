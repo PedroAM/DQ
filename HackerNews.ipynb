{
 "cells": [
  {
   "cell_type": "markdown",
   "metadata": {
    "collapsed": true
   },
   "source": [
    "# Analysis of Hacker News data\n",
    "**Focus on Ask/Show HN posts**"
   ]
  },
  {
   "cell_type": "code",
   "execution_count": 1,
   "metadata": {
    "collapsed": false
   },
   "outputs": [
    {
     "name": "stdout",
     "output_type": "stream",
     "text": [
      "['id', 'title', 'url', 'num_points', 'num_comments', 'author', 'created_at']\n",
      "\n",
      "\n",
      "['12224879', 'Interactive Dynamic Video', 'http://www.interactivedynamicvideo.com/', '386', '52', 'ne0phyte', '8/4/2016 11:52']\n"
     ]
    }
   ],
   "source": [
    "from csv import reader\n",
    "\n",
    "open_file = open('hacker_news.csv')\n",
    "read_file = reader(open_file)\n",
    "hn = list(read_file)\n",
    "\n",
    "print(hn[0]) ## header\n",
    "print('\\n')\n",
    "print(hn[1]) ## first row of data"
   ]
  },
  {
   "cell_type": "code",
   "execution_count": 2,
   "metadata": {
    "collapsed": true
   },
   "outputs": [],
   "source": [
    "# Separate header from data\n",
    "\n",
    "headers = hn[0]\n",
    "hn = hn[1:]\n"
   ]
  },
  {
   "cell_type": "code",
   "execution_count": 3,
   "metadata": {
    "collapsed": false
   },
   "outputs": [
    {
     "name": "stdout",
     "output_type": "stream",
     "text": [
      "Ask posts: 1744\n",
      "Show posts: 1162\n",
      "Other posts: 17194\n"
     ]
    }
   ],
   "source": [
    "# Group posts by type\n",
    "\n",
    "ask_posts = []\n",
    "show_posts = []\n",
    "other_posts = []\n",
    "\n",
    "for row in hn:\n",
    "    title = row[1]\n",
    "    \n",
    "    if title.lower().startswith('ask hn'):\n",
    "        ask_posts.append(row)\n",
    "    elif title.lower().startswith('show hn'):\n",
    "        show_posts.append(row)    \n",
    "    else:\n",
    "        other_posts.append(row)\n",
    "\n",
    "print('Ask posts: {}'.format(len(ask_posts)))\n",
    "print('Show posts: {}'.format(len(show_posts))) \n",
    "print('Other posts: {}'.format(len(other_posts))) \n"
   ]
  },
  {
   "cell_type": "code",
   "execution_count": 4,
   "metadata": {
    "collapsed": false
   },
   "outputs": [
    {
     "name": "stdout",
     "output_type": "stream",
     "text": [
      "Avg. 'Ask' number of comments: 14.038417431192661\n",
      "Avg. 'Show' number of comments: 10.31669535283993\n"
     ]
    }
   ],
   "source": [
    "# Compare average number of comments for 'Ask' and 'Show'\n",
    "\n",
    "total_ask_comments = 0\n",
    "\n",
    "for ask in ask_posts:\n",
    "    num_comments = int(ask[4])\n",
    "    total_ask_comments += num_comments\n",
    "\n",
    "print (\"Avg. 'Ask' number of comments: {}\".format(total_ask_comments/len(ask_posts)))\n",
    " \n",
    "total_show_comments = 0\n",
    "\n",
    "for show in show_posts:\n",
    "    num_comments = int(show[4])\n",
    "    total_show_comments += num_comments\n",
    "\n",
    "print (\"Avg. 'Show' number of comments: {}\".format(total_show_comments/len(show_posts)))    "
   ]
  },
  {
   "cell_type": "markdown",
   "metadata": {},
   "source": [
    " - Ask posts get a significative higher number of comments, on average"
   ]
  },
  {
   "cell_type": "code",
   "execution_count": 5,
   "metadata": {
    "collapsed": false
   },
   "outputs": [],
   "source": [
    "# Analysis of number of comments by post creation time\n",
    "\n",
    "import datetime as dt\n",
    "\n",
    "result_list = []\n",
    "\n",
    "for ask in ask_posts:\n",
    "    created = ask[6]\n",
    "    num_comments = int(ask[4])\n",
    "    \n",
    "    result_list.append([created,num_comments]) #[[created,num_comments],[...]]\n",
    "\n",
    "counts_by_hour = {}\n",
    "comments_by_hour = {}\n",
    "\n",
    "for row in result_list:\n",
    "    \n",
    "    time = dt.datetime.strptime(row[0],'%m/%d/%Y %H:%M') #Convert str to datetime object\n",
    "    hour = time.strftime('%H') #Extract hour from datetime object\n",
    "    \n",
    "    if hour in counts_by_hour:\n",
    "        counts_by_hour[hour] += 1\n",
    "        comments_by_hour[hour] += row[1]\n",
    "    else:\n",
    "        counts_by_hour[hour]  = 1\n",
    "        comments_by_hour[hour]= row[1]\n",
    "    "
   ]
  },
  {
   "cell_type": "markdown",
   "metadata": {},
   "source": [
    "- use strptime to convert string to a datetime object\n",
    "- use strftime to extract component of a datetime object"
   ]
  },
  {
   "cell_type": "code",
   "execution_count": 22,
   "metadata": {
    "collapsed": false
   },
   "outputs": [
    {
     "name": "stdout",
     "output_type": "stream",
     "text": [
      "15:00: 38.59 average comments per post\n",
      "02:00: 23.81 average comments per post\n",
      "20:00: 21.52 average comments per post\n",
      "16:00: 16.80 average comments per post\n",
      "21:00: 16.01 average comments per post\n"
     ]
    }
   ],
   "source": [
    "avg_by_hour = []\n",
    "\n",
    "for hour in counts_by_hour:\n",
    "    avg_by_hour.append([hour, comments_by_hour[hour] / counts_by_hour[hour]])\n",
    " \n",
    "# print(avg_by_hour)\n",
    "\n",
    "swap_avg_by_hour = [] \n",
    "\n",
    "for item in avg_by_hour: #swap list items\n",
    "    swap_avg_by_hour.append([item[1],item[0]])\n",
    "    \n",
    "# print(swap_avg_by_hour)\n",
    "\n",
    "sorted_swap = sorted(swap_avg_by_hour,reverse = True)\n",
    "\n",
    "# top 5 hours to post\n",
    "for item in sorted_swap[:5]:\n",
    "    hour = dt.datetime.strptime(item[1],'%H') #convert hour string to hour from a dt object\n",
    "    print(\"{}: {:.2f} average comments per post\".format(hour.strftime('%H:%M'),item[0]))"
   ]
  }
 ],
 "metadata": {
  "kernelspec": {
   "display_name": "Python 3",
   "language": "python",
   "name": "python3"
  },
  "language_info": {
   "codemirror_mode": {
    "name": "ipython",
    "version": 3
   },
   "file_extension": ".py",
   "mimetype": "text/x-python",
   "name": "python",
   "nbconvert_exporter": "python",
   "pygments_lexer": "ipython3",
   "version": "3.4.3"
  }
 },
 "nbformat": 4,
 "nbformat_minor": 2
}
